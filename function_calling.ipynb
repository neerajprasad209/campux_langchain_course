{
 "cells": [
  {
   "cell_type": "code",
   "execution_count": 1,
   "id": "2ff92a2b",
   "metadata": {},
   "outputs": [],
   "source": [
    "import os\n",
    "from openai import OpenAI\n",
    "from dotenv import load_dotenv"
   ]
  },
  {
   "cell_type": "code",
   "execution_count": 2,
   "id": "bb88364a",
   "metadata": {},
   "outputs": [],
   "source": [
    "load_dotenv()\n",
    "OPENAI_API_KEY= os.getenv(\"OPENAI_API_KEY\")\n",
    "client = OpenAI()"
   ]
  },
  {
   "cell_type": "code",
   "execution_count": 3,
   "id": "9e3d5895",
   "metadata": {},
   "outputs": [
    {
     "name": "stdout",
     "output_type": "stream",
     "text": [
      "Under a silvery moon, a gentle unicorn named Luna tiptoed through a field of glowing flowers, leaving sparkling dreams in every child’s heart as they drifted off to sleep.\n"
     ]
    }
   ],
   "source": [
    "\n",
    "completion = client.chat.completions.create(\n",
    "    model=\"gpt-4.1\",\n",
    "    messages=[\n",
    "        {\n",
    "            \"role\": \"user\",\n",
    "            \"content\": \"Write a one-sentence bedtime story about a unicorn.\"\n",
    "        }\n",
    "    ]\n",
    ")\n",
    "\n",
    "print(completion.choices[0].message.content)"
   ]
  },
  {
   "cell_type": "code",
   "execution_count": 32,
   "id": "86d21474",
   "metadata": {},
   "outputs": [],
   "source": [
    "import requests\n",
    "\n",
    "def get_weather(latitude, longitude):\n",
    "    response = requests.get(f\"https://api.open-meteo.com/v1/forecast?latitude={latitude}&longitude={longitude}&current=temperature_2m,wind_speed_10m&hourly=temperature_2m,relative_humidity_2m,wind_speed_10m\")\n",
    "    data = response.json()\n",
    "    return data['current']['temperature_2m']"
   ]
  },
  {
   "cell_type": "code",
   "execution_count": 33,
   "id": "ec40d079",
   "metadata": {},
   "outputs": [
    {
     "data": {
      "text/plain": [
       "30.3"
      ]
     },
     "execution_count": 33,
     "metadata": {},
     "output_type": "execute_result"
    }
   ],
   "source": [
    "get_weather(28.65195, 77.23149)"
   ]
  },
  {
   "cell_type": "markdown",
   "id": "9ee852ff",
   "metadata": {},
   "source": [
    "![alt text](function-calling-diagram-steps.png)"
   ]
  },
  {
   "cell_type": "code",
   "execution_count": 14,
   "id": "ada341bf",
   "metadata": {},
   "outputs": [],
   "source": [
    "import requests\n",
    "import json\n",
    "\n",
    "def get_current_weather(location):\n",
    "    url = \"https://ai-weather-by-meteosource.p.rapidapi.com/find_places_prefix\"\n",
    "\n",
    "    querystring = {\"text\":location,\"language\":\"en\"}\n",
    "\n",
    "    headers = {\n",
    "        \"x-rapidapi-key\": \"01bd5caaaemsheb6f5da0dd2b2efp155ce9jsnd519fdbf076e\",\n",
    "        \"x-rapidapi-host\": \"ai-weather-by-meteosource.p.rapidapi.com\"\n",
    "    }\n",
    "\n",
    "    response = requests.get(url, headers=headers, params=querystring)\n",
    "\n",
    "    print(response.json())"
   ]
  },
  {
   "cell_type": "code",
   "execution_count": 15,
   "id": "e868c311",
   "metadata": {},
   "outputs": [],
   "source": [
    "from openai import OpenAI\n",
    "client = OpenAI()\n",
    "\n",
    "tools = [{\n",
    "    \"type\": \"function\",\n",
    "    \"function\": {\n",
    "        \"name\": \"get_current_weather\",\n",
    "        \"description\": \"Retrieves current weather for the given location.\",\n",
    "        \"parameters\": {\n",
    "            \"type\": \"object\",\n",
    "            \"properties\": {\n",
    "                \"location\": {\n",
    "                    \"type\": \"string\",\n",
    "                    \"description\": \"City and country e.g. Bogotá, Colombia\"\n",
    "                },\n",
    "                \"units\": {\n",
    "                    \"type\": \"string\",\n",
    "                    \"enum\": [\n",
    "                        \"celsius\",\n",
    "                        \"fahrenheit\"\n",
    "                    ],\n",
    "                    \"description\": \"Units the temperature will be returned in.\"\n",
    "                }\n",
    "            },\n",
    "            \"required\": [\n",
    "                \"location\",\n",
    "                \"units\"\n",
    "            ],\n",
    "            \"additionalProperties\": False\n",
    "        },\n",
    "        \"strict\": True\n",
    "    }\n",
    "}]"
   ]
  },
  {
   "cell_type": "code",
   "execution_count": 16,
   "id": "1c21d4b7",
   "metadata": {},
   "outputs": [],
   "source": [
    "messages = [{\"role\": \"user\", \"content\": \"What's the weather like in Delhi today?\"}]\n",
    "\n",
    "completion = client.chat.completions.create(\n",
    "    model=\"gpt-4.1\",\n",
    "    messages=messages,\n",
    "    tools=tools,\n",
    ")"
   ]
  },
  {
   "cell_type": "code",
   "execution_count": 17,
   "id": "37341e9b",
   "metadata": {},
   "outputs": [
    {
     "name": "stdout",
     "output_type": "stream",
     "text": [
      "{\n",
      "  \"id\": \"chatcmpl-BbJf8AJHvCSJ6PmZ14NGvQhImdKYh\",\n",
      "  \"choices\": [\n",
      "    {\n",
      "      \"finish_reason\": \"tool_calls\",\n",
      "      \"index\": 0,\n",
      "      \"logprobs\": null,\n",
      "      \"message\": {\n",
      "        \"content\": null,\n",
      "        \"refusal\": null,\n",
      "        \"role\": \"assistant\",\n",
      "        \"annotations\": [],\n",
      "        \"audio\": null,\n",
      "        \"function_call\": null,\n",
      "        \"tool_calls\": [\n",
      "          {\n",
      "            \"id\": \"call_B2fWyOXT6KDZlpxZi2PYeZSz\",\n",
      "            \"function\": {\n",
      "              \"arguments\": \"{\\\"location\\\":\\\"Delhi, India\\\",\\\"units\\\":\\\"celsius\\\"}\",\n",
      "              \"name\": \"get_current_weather\"\n",
      "            },\n",
      "            \"type\": \"function\"\n",
      "          }\n",
      "        ]\n",
      "      }\n",
      "    }\n",
      "  ],\n",
      "  \"created\": 1748233418,\n",
      "  \"model\": \"gpt-4.1-2025-04-14\",\n",
      "  \"object\": \"chat.completion\",\n",
      "  \"service_tier\": \"default\",\n",
      "  \"system_fingerprint\": \"fp_b3f1157249\",\n",
      "  \"usage\": {\n",
      "    \"completion_tokens\": 22,\n",
      "    \"prompt_tokens\": 84,\n",
      "    \"total_tokens\": 106,\n",
      "    \"completion_tokens_details\": {\n",
      "      \"accepted_prediction_tokens\": 0,\n",
      "      \"audio_tokens\": 0,\n",
      "      \"reasoning_tokens\": 0,\n",
      "      \"rejected_prediction_tokens\": 0\n",
      "    },\n",
      "    \"prompt_tokens_details\": {\n",
      "      \"audio_tokens\": 0,\n",
      "      \"cached_tokens\": 0\n",
      "    }\n",
      "  }\n",
      "}\n"
     ]
    }
   ],
   "source": [
    "print(completion.model_dump_json(indent=2))"
   ]
  },
  {
   "cell_type": "code",
   "execution_count": 21,
   "id": "3bdd4c93",
   "metadata": {},
   "outputs": [
    {
     "name": "stdout",
     "output_type": "stream",
     "text": [
      "Delhi, India\n",
      "[{'name': 'Delhi', 'place_id': 'delhi', 'adm_area1': 'National Capital Territory of Delhi', 'adm_area2': None, 'country': 'India', 'lat': '28.65195N', 'lon': '77.23149E', 'timezone': 'Asia/Kolkata', 'type': 'settlement'}, {'name': 'Najafgarh', 'place_id': 'najafgarh', 'adm_area1': 'National Capital Territory of Delhi', 'adm_area2': 'South West', 'country': 'India', 'lat': '28.60922N', 'lon': '76.97982E', 'timezone': 'Asia/Kolkata', 'type': 'settlement'}, {'name': 'National Capital Territory of Delhi', 'place_id': 'national-capital-territory-of-delhi', 'adm_area1': 'National Capital Territory of Delhi', 'adm_area2': None, 'country': 'India', 'lat': '28.6667N', 'lon': '77.1E', 'timezone': 'Asia/Kolkata', 'type': 'administrative_area'}, {'name': 'North West Delhi', 'place_id': 'north-west-delhi', 'adm_area1': 'National Capital Territory of Delhi', 'adm_area2': 'North West Delhi', 'country': 'India', 'lat': '28.70113N', 'lon': '77.10154E', 'timezone': 'Asia/Kolkata', 'type': 'administrative_area'}, {'name': 'South Delhi', 'place_id': 'south-delhi', 'adm_area1': 'National Capital Territory of Delhi', 'adm_area2': 'South Delhi', 'country': 'India', 'lat': '28.53009N', 'lon': '77.25174E', 'timezone': 'Asia/Kolkata', 'type': 'administrative_area'}, {'name': 'West', 'place_id': 'west-delhi', 'adm_area1': 'National Capital Territory of Delhi', 'adm_area2': 'West', 'country': 'India', 'lat': '28.65655N', 'lon': '77.10068E', 'timezone': 'Asia/Kolkata', 'type': 'administrative_area'}, {'name': 'South West', 'place_id': 'south-west-delhi', 'adm_area1': 'National Capital Territory of Delhi', 'adm_area2': 'South West', 'country': 'India', 'lat': '28.5806N', 'lon': '77.0672E', 'timezone': 'Asia/Kolkata', 'type': 'administrative_area'}, {'name': 'North East', 'place_id': 'north-east-delhi', 'adm_area1': 'National Capital Territory of Delhi', 'adm_area2': 'North East', 'country': 'India', 'lat': '28.6869N', 'lon': '77.30195E', 'timezone': 'Asia/Kolkata', 'type': 'administrative_area'}, {'name': 'East', 'place_id': 'east-delhi', 'adm_area1': 'National Capital Territory of Delhi', 'adm_area2': 'East', 'country': 'India', 'lat': '28.66242N', 'lon': '77.29122E', 'timezone': 'Asia/Kolkata', 'type': 'administrative_area'}, {'name': 'North', 'place_id': 'north-delhi', 'adm_area1': 'National Capital Territory of Delhi', 'adm_area2': 'North', 'country': 'India', 'lat': '28.6692N', 'lon': '77.22273E', 'timezone': 'Asia/Kolkata', 'type': 'administrative_area'}]\n"
     ]
    }
   ],
   "source": [
    "tool_call = completion.choices[0].message.tool_calls[0]\n",
    "args = json.loads(tool_call.function.arguments)\n",
    "\n",
    "# result = get_weather(arguments[\"location\"])\n",
    "print(args['location'])\n",
    "\n",
    "result = get_current_weather(args['location'])"
   ]
  },
  {
   "cell_type": "code",
   "execution_count": 22,
   "id": "716f7c5f",
   "metadata": {},
   "outputs": [
    {
     "name": "stdout",
     "output_type": "stream",
     "text": [
      "None\n"
     ]
    }
   ],
   "source": [
    "print(result)"
   ]
  },
  {
   "cell_type": "code",
   "execution_count": null,
   "id": "9718dfb1",
   "metadata": {},
   "outputs": [],
   "source": [
    "messages.append(completion.choices[0].message)  # append model's function call message\n",
    "messages.append({                               # append result message\n",
    "                \n",
    "    \"role\": \"tool\",\n",
    "    \"tool_call_id\": tool_call.id,\n",
    "    \"content\": str(result)\n",
    "})\n",
    "\n",
    "completion_2 = client.chat.completions.create(\n",
    "    model=\"gpt-4.1\",\n",
    "    messages=messages,\n",
    "    tools=tools,\n",
    ")"
   ]
  },
  {
   "cell_type": "code",
   "execution_count": 24,
   "id": "6aa36070",
   "metadata": {},
   "outputs": [
    {
     "data": {
      "text/plain": [
       "\"I'm unable to retrieve the current weather for Delhi right now. Would you like a general weather overview for Delhi in June, or would you like to try again later for live weather information?\""
      ]
     },
     "execution_count": 24,
     "metadata": {},
     "output_type": "execute_result"
    }
   ],
   "source": [
    "completion_2.choices[0].message.content"
   ]
  },
  {
   "cell_type": "code",
   "execution_count": null,
   "id": "75db1cc5",
   "metadata": {},
   "outputs": [],
   "source": []
  }
 ],
 "metadata": {
  "kernelspec": {
   "display_name": "cx_env",
   "language": "python",
   "name": "python3"
  },
  "language_info": {
   "codemirror_mode": {
    "name": "ipython",
    "version": 3
   },
   "file_extension": ".py",
   "mimetype": "text/x-python",
   "name": "python",
   "nbconvert_exporter": "python",
   "pygments_lexer": "ipython3",
   "version": "3.12.10"
  }
 },
 "nbformat": 4,
 "nbformat_minor": 5
}
