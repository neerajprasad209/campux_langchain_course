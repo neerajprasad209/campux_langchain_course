{
 "cells": [
  {
   "cell_type": "code",
   "execution_count": 3,
   "id": "a8cd7ae8",
   "metadata": {},
   "outputs": [],
   "source": [
    "from langchain_openai import ChatOpenAI\n",
    "from dotenv import load_dotenv"
   ]
  },
  {
   "cell_type": "code",
   "execution_count": 10,
   "id": "27ab6f65",
   "metadata": {},
   "outputs": [],
   "source": [
    "load_dotenv()\n",
    "\n",
    "def get_completion(prompt, model=\"gpt-4o\"):\n",
    "    message = [\n",
    "        {\"role\":\"user\", \n",
    "        \"content\": prompt}\n",
    "        ]\n",
    "    model = ChatOpenAI(model=model)\n",
    "    response = model.invoke(message)\n",
    "    \n",
    "    return response"
   ]
  },
  {
   "cell_type": "code",
   "execution_count": 14,
   "id": "18d955b0",
   "metadata": {},
   "outputs": [],
   "source": [
    "prompt = \"Explain me What is machine learning?\"\n",
    "\n",
    "\n",
    "result = get_completion(prompt=prompt)"
   ]
  },
  {
   "cell_type": "code",
   "execution_count": 16,
   "id": "ed9b9242",
   "metadata": {},
   "outputs": [
    {
     "name": "stdout",
     "output_type": "stream",
     "text": [
      "Machine learning is a subset of artificial intelligence (AI) that focuses on the development of algorithms and statistical models that enable computers to perform tasks without explicit instructions. Instead of being programmed with specific rules, machine learning systems are trained to learn from data and improve their performance over time. Here's a breakdown of key concepts and components involved in machine learning:\n",
      "\n",
      "1. **Data**: Machine learning relies on large datasets from which it can identify patterns, make decisions, and predict outcomes. The quality and quantity of data significantly affect the performance of a machine learning model.\n",
      "\n",
      "2. **Algorithms**: These are the mathematical engines of machine learning that process data to find patterns. Common algorithms include decision trees, support vector machines, neural networks, and k-nearest neighbors, among others.\n",
      "\n",
      "3. **Model**: A model is the output of a machine learning algorithm after it has been trained on data. This model can then be used to make predictions or decisions based on new data.\n",
      "\n",
      "4. **Training**: This is the process of feeding data to a machine learning algorithm so that it can learn from the data and develop a model. This process involves adjusting the model to minimize errors in predictions.\n",
      "\n",
      "5. **Testing and Validation**: After a model is trained, it needs to be tested and validated to ensure its accuracy and generalizability to new, unseen data. This typically involves using a separate subset of data that wasn't used during training.\n",
      "\n",
      "6. **Types of Machine Learning**:\n",
      "   - **Supervised Learning**: The algorithm is trained on a labeled dataset, meaning each training example is paired with an output label. The model learns to predict the output from the input data.\n",
      "   - **Unsupervised Learning**: The algorithm works with unlabeled data and tries to find hidden patterns or intrinsic structures. Clustering and association are common techniques here.\n",
      "   - **Reinforcement Learning**: The model learns by interacting with an environment, with the aim of maximizing some notion of cumulative reward.\n",
      "\n",
      "7. **Applications**: Machine learning is used in a wide array of fields, including healthcare for predictive diagnostics, finance for fraud detection, marketing for customer segmentation, autonomous vehicles for navigation, and much more.\n",
      "\n",
      "Overall, machine learning is a powerful tool that enables computers to learn and adapt by interpreting data, leading to automation and enhanced decision-making across various domains.\n"
     ]
    }
   ],
   "source": [
    "print(result.content)"
   ]
  },
  {
   "cell_type": "code",
   "execution_count": null,
   "id": "c9843221",
   "metadata": {},
   "outputs": [],
   "source": []
  }
 ],
 "metadata": {
  "kernelspec": {
   "display_name": "cx_env",
   "language": "python",
   "name": "python3"
  },
  "language_info": {
   "codemirror_mode": {
    "name": "ipython",
    "version": 3
   },
   "file_extension": ".py",
   "mimetype": "text/x-python",
   "name": "python",
   "nbconvert_exporter": "python",
   "pygments_lexer": "ipython3",
   "version": "3.12.10"
  }
 },
 "nbformat": 4,
 "nbformat_minor": 5
}
